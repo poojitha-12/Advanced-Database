{
 "cells": [
  {
   "cell_type": "code",
   "execution_count": 1,
   "metadata": {},
   "outputs": [],
   "source": [
    "import sqlite3"
   ]
  },
  {
   "cell_type": "code",
   "execution_count": 2,
   "metadata": {},
   "outputs": [],
   "source": [
    "connection = sqlite3.connect(\"pets.db\")\n",
    "cursor = connection.cursor()"
   ]
  },
  {
   "cell_type": "code",
   "execution_count": 3,
   "metadata": {},
   "outputs": [],
   "source": [
    "cursor.execute(\n",
    "    \"\"\"\n",
    "    create table if not exists kind (\n",
    "        id integer primary key autoincrement,\n",
    "        name text not null,\n",
    "        food text,\n",
    "        sound text\n",
    "    )\n",
    "\"\"\"\n",
    ")\n",
    "\n",
    "connection.commit()"
   ]
  },
  {
   "cell_type": "code",
   "execution_count": 4,
   "metadata": {},
   "outputs": [],
   "source": [
    "cursor.execute(\n",
    "    \"\"\"\n",
    "        insert \n",
    "            into kind(name, food, sound) \n",
    "            values (?,?,?)\n",
    "        \"\"\",\n",
    "    (\"dog\", \"dogfood\", \"bark\"),\n",
    ")\n",
    "connection.commit()"
   ]
  },
  {
   "cell_type": "code",
   "execution_count": 5,
   "metadata": {},
   "outputs": [],
   "source": [
    "cursor.execute(\n",
    "    \"\"\"\n",
    "        insert \n",
    "            into kind(name, food, sound) \n",
    "            values (?,?,?)\n",
    "        \"\"\",\n",
    "    (\"cat\", \"catfood\", \"meow\"),\n",
    ")\n",
    "connection.commit()\n",
    "     "
   ]
  },
  {
   "cell_type": "code",
   "execution_count": 6,
   "metadata": {},
   "outputs": [],
   "source": [
    "cursor.execute(\n",
    "    \"\"\"\n",
    "    create table if not exists pet (\n",
    "        id integer primary key autoincrement,\n",
    "        name text not null,\n",
    "        kind_id integer,\n",
    "        age integer,\n",
    "        owner text\n",
    "    )\n",
    "\"\"\"\n",
    ")\n",
    "\n",
    "connection.commit()"
   ]
  },
  {
   "cell_type": "code",
   "execution_count": 7,
   "metadata": {},
   "outputs": [],
   "source": [
    "for name in [\"dorothy\", \"suzy\", \"casey\", \"heidi\"]:\n",
    "    cursor.execute(\n",
    "        \"\"\"\n",
    "        insert \n",
    "            into pet(name, kind_id, age, owner) \n",
    "            values (?,?,?,?)\n",
    "        \"\"\",\n",
    "        (name, 1, 9, \"greg\"),\n",
    "    )\n",
    "    connection.commit()"
   ]
  },
  {
   "cell_type": "code",
   "execution_count": 8,
   "metadata": {},
   "outputs": [],
   "source": [
    "\n",
    "for name in [\"sandy\", \"muffin\", \"shadow\"]:\n",
    "    cursor.execute(\n",
    "        \"\"\"\n",
    "        insert \n",
    "            into pet(name, kind_id, age, owner) \n",
    "            values (?,?,?,?)\n",
    "        \"\"\",\n",
    "        (name, 2, 9, \"greg\"),\n",
    "    )\n",
    "    connection.commit()"
   ]
  },
  {
   "cell_type": "code",
   "execution_count": 9,
   "metadata": {},
   "outputs": [
    {
     "name": "stdout",
     "output_type": "stream",
     "text": [
      "(1, 'dorothy', 1, 9, 'greg')\n",
      "(2, 'suzy', 1, 9, 'greg')\n",
      "(3, 'casey', 1, 9, 'greg')\n",
      "(4, 'heidi', 1, 9, 'greg')\n"
     ]
    }
   ],
   "source": [
    "cursor.execute(\"\"\"select * from pet where kind_id=?\"\"\", (1,))\n",
    "rows = cursor.fetchall()\n",
    "for row in rows:\n",
    "    print(row)"
   ]
  },
  {
   "cell_type": "code",
   "execution_count": 10,
   "metadata": {},
   "outputs": [
    {
     "name": "stdout",
     "output_type": "stream",
     "text": [
      "(1, 'dorothy', 1, 9, 'greg', 1, 'dog', 'dogfood', 'bark')\n",
      "(2, 'suzy', 1, 9, 'greg', 1, 'dog', 'dogfood', 'bark')\n",
      "(3, 'casey', 1, 9, 'greg', 1, 'dog', 'dogfood', 'bark')\n",
      "(4, 'heidi', 1, 9, 'greg', 1, 'dog', 'dogfood', 'bark')\n",
      "(5, 'sandy', 2, 9, 'greg', 2, 'cat', 'catfood', 'meow')\n",
      "(6, 'muffin', 2, 9, 'greg', 2, 'cat', 'catfood', 'meow')\n",
      "(7, 'shadow', 2, 9, 'greg', 2, 'cat', 'catfood', 'meow')\n"
     ]
    }
   ],
   "source": [
    "\n",
    "cursor.execute(\"\"\"select * from pet, kind where pet.kind_id=kind.id\"\"\", ())\n",
    "rows = cursor.fetchall()\n",
    "for row in rows:\n",
    "    print(row)\n",
    "     "
   ]
  },
  {
   "cell_type": "code",
   "execution_count": 11,
   "metadata": {},
   "outputs": [],
   "source": [
    "\n",
    "cursor.execute(\"\"\"\n",
    "    update pet\n",
    "    set age = ? \n",
    "    where name = ?\n",
    "    \"\"\", (11,\"sandy\"))\n",
    "connection.commit()"
   ]
  },
  {
   "cell_type": "code",
   "execution_count": 12,
   "metadata": {},
   "outputs": [
    {
     "ename": "OperationalError",
     "evalue": "no such column: type",
     "output_type": "error",
     "traceback": [
      "\u001b[0;31m---------------------------------------------------------------------------\u001b[0m",
      "\u001b[0;31mOperationalError\u001b[0m                          Traceback (most recent call last)",
      "Cell \u001b[0;32mIn[12], line 1\u001b[0m\n\u001b[0;32m----> 1\u001b[0m \u001b[43mcursor\u001b[49m\u001b[38;5;241;43m.\u001b[39;49m\u001b[43mexecute\u001b[49m\u001b[43m(\u001b[49m\u001b[38;5;124;43m\"\"\"\u001b[39;49m\n\u001b[1;32m      2\u001b[0m \u001b[38;5;124;43m    delete from pet\u001b[39;49m\n\u001b[1;32m      3\u001b[0m \u001b[38;5;124;43m    where type = ?\u001b[39;49m\n\u001b[1;32m      4\u001b[0m \u001b[38;5;124;43m    \u001b[39;49m\u001b[38;5;124;43m\"\"\"\u001b[39;49m\u001b[43m,\u001b[49m\u001b[43m \u001b[49m\u001b[43m(\u001b[49m\u001b[38;5;124;43m\"\u001b[39;49m\u001b[38;5;124;43mcat\u001b[39;49m\u001b[38;5;124;43m\"\u001b[39;49m\u001b[43m,\u001b[49m\u001b[43m)\u001b[49m\u001b[43m)\u001b[49m\n\u001b[1;32m      5\u001b[0m connection\u001b[38;5;241m.\u001b[39mcommit()\n",
      "\u001b[0;31mOperationalError\u001b[0m: no such column: type"
     ]
    }
   ],
   "source": [
    "cursor.execute(\"\"\"\n",
    "    delete from pet\n",
    "    where type = ?\n",
    "    \"\"\", (\"cat\",))\n",
    "connection.commit()"
   ]
  },
  {
   "cell_type": "code",
   "execution_count": null,
   "metadata": {},
   "outputs": [],
   "source": []
  }
 ],
 "metadata": {
  "kernelspec": {
   "display_name": "Python 3",
   "language": "python",
   "name": "python3"
  },
  "language_info": {
   "codemirror_mode": {
    "name": "ipython",
    "version": 3
   },
   "file_extension": ".py",
   "mimetype": "text/x-python",
   "name": "python",
   "nbconvert_exporter": "python",
   "pygments_lexer": "ipython3",
   "version": "3.12.1"
  }
 },
 "nbformat": 4,
 "nbformat_minor": 2
}
